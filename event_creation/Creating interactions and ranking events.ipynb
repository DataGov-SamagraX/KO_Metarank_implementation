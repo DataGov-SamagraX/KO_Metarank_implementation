{
 "cells": [
  {
   "cell_type": "markdown",
   "id": "4d34d8a1",
   "metadata": {},
   "source": [
    "### Introduction : "
   ]
  },
  {
   "cell_type": "markdown",
   "id": "3dd55983",
   "metadata": {},
   "source": [
    "The code creates events gzip jsonl files for rankings and interactions based on input data. The gzip files are created separately for rankings/interactions at a monthly level.  "
   ]
  },
  {
   "cell_type": "markdown",
   "id": "61af97a5",
   "metadata": {},
   "source": [
    "### Import libraries:"
   ]
  },
  {
   "cell_type": "code",
   "execution_count": 65,
   "id": "2b83c10a",
   "metadata": {},
   "outputs": [],
   "source": [
    "import pandas as pd \n",
    "import numpy as np \n",
    "import os as os\n",
    "from datetime import datetime\n",
    "import json\n",
    "import gzip\n",
    "import jsonlines\n",
    "import pickle"
   ]
  },
  {
   "cell_type": "markdown",
   "id": "55f431e7",
   "metadata": {},
   "source": [
    "### File locations :  "
   ]
  },
  {
   "cell_type": "code",
   "execution_count": 76,
   "id": "dc0b15ab",
   "metadata": {},
   "outputs": [],
   "source": [
    "## Location to pick up data from \n",
    "folder_loc = \"D:/Samagra/KO/Ama_krushi_data/\"\n",
    "\n",
    "## location to save all created files \n",
    "content_folder =  \"D:/Samagra/KO/Recommendations engine/IVRS transformations/\"\n",
    "\n",
    "save_ranking_interactions =  \"D:/Samagra/KO/Recommendations engine/IVRS transformations/interactions_rankings/\"\n",
    "\n",
    "## file name for the gzip with both ranking and interactions: \n",
    "\n",
    "gzip_filename_interactions = 'interaction.jsonl.gz'\n",
    "\n",
    "gzip_filename_ranking = 'ranking.jsonl.gz'\n",
    "\n",
    "# gzip_filename = 'ranking_interaction_Jan_Feb.jsonl.gz'\n",
    "\n",
    "## file name for content metdata:  \n",
    "content_md_filename=  'content_metadata.csv'\n",
    "\n",
    "eng_ratio_cutoff = 0.858034321372855\n",
    "\n",
    "## finding the list of files\n",
    "file_list = os.listdir(folder_loc)\n",
    "file_list.reverse()"
   ]
  },
  {
   "cell_type": "markdown",
   "id": "ba224309",
   "metadata": {},
   "source": [
    "### User defined functions:"
   ]
  },
  {
   "cell_type": "code",
   "execution_count": 66,
   "id": "895e49c7",
   "metadata": {},
   "outputs": [],
   "source": [
    "def writeall_jsonl_gz(filename, payload ):\n",
    "    with gzip.open(filename, 'wb') as fp:\n",
    "        json_writer = jsonlines.Writer(fp)\n",
    "        json_writer.write_all(payload)"
   ]
  },
  {
   "cell_type": "code",
   "execution_count": 69,
   "id": "f6fb3423",
   "metadata": {},
   "outputs": [],
   "source": [
    "def intial_cleaning_df(df1): \n",
    "    df1['pushcall_id'] =  df1['pushcall_id'].str.lower()\n",
    "    df1 = df1.loc[~df1.pushcall_length.isna(),:]\n",
    "    df1 =  pd.merge(df1,content_md[['pushcall_id']],how='inner')\n",
    "    df1['eng_ratio'] = df1['duration']/df1['pushcall_length']\n",
    "    df1['eng_ratio']= df1.eng_ratio.astype('float')\n",
    "    return(df1)"
   ]
  },
  {
   "cell_type": "code",
   "execution_count": 70,
   "id": "7a5c7630",
   "metadata": {},
   "outputs": [],
   "source": [
    "def create_interactions_df(df1):\n",
    "    df1.loc[:,'liked_call'] = 0\n",
    "    df1.loc[df1.eng_ratio > eng_ratio_cutoff ,'liked_call'] = 1\n",
    "    numbers_who_liked = np.unique(df1.loc[df1.liked_call == 1,'number' ].values)\n",
    "    numbers_who_liked_df = pd.DataFrame(numbers_who_liked,columns =['number'])\n",
    "    df2 = pd.merge(df1,numbers_who_liked_df)\n",
    "    df2 = df2.sort_values('call_datetime').reset_index(drop= True)\n",
    "    df2['month'] = df2['call_datetime'].str[5:7].astype('int')\n",
    "    df2['pushcall_id'] = df2['pushcall_id'].str.lower()\n",
    "    df3 = df2.groupby(['number'])['pushcall_id'].agg([(lambda x: ','.join(map(str, x)))]).applymap(lambda elements: ','.join(set(elements.split(',')))).reset_index().rename(columns = {'<lambda>':'Pushcall_ids_rankings'})\n",
    "    rankings_interactions_df =  pd.merge(df2.loc[df2.liked_call ==1 ,:],df3)\n",
    "    return(rankings_interactions_df)"
   ]
  },
  {
   "cell_type": "code",
   "execution_count": 71,
   "id": "fa8fbd0a",
   "metadata": {},
   "outputs": [],
   "source": [
    "def create_interactions_dict(rankings_interactions_df):\n",
    "    interactions_df = rankings_interactions_df[['number','call_datetime','pushcall_id']].rename(columns = {'pushcall_id':'item', 'call_datetime':'timestamp','number':'user'})\n",
    "    interactions_df['user'] =   interactions_df['user'].astype(str).str[0:10]\n",
    "    interactions_df['fields'] = np.empty((len(interactions_df), 0)).tolist()\n",
    "    interactions_df['timestamp'] = ((pd.to_datetime(interactions_df['timestamp']) -  pd.Timestamp(\"1970-01-01\"))/ pd.Timedelta('1s'))* 1000\n",
    "    interactions_df['timestamp']=  pd.to_numeric(interactions_df['timestamp'].astype('str').str[0:13]).astype(object)\n",
    "    interactions_df['id']=  (file_month + interactions_df.index.astype('str')).astype('str')\n",
    "    interactions_df['ranking'] = interactions_df['id']\n",
    "    interactions_df['tenant']= 'default'\n",
    "    interactions_df['type'] =  'click'\n",
    "    interactions_df['session'] = interactions_df['user']\n",
    "    interactions_df['event'] = 'interaction'\n",
    "    interactions_df =  interactions_df[['event','fields','id','item','ranking','session','tenant','timestamp','type','user']]\n",
    "    interactions_dict = interactions_df.to_dict('records')\n",
    "    return(interactions_dict)"
   ]
  },
  {
   "cell_type": "code",
   "execution_count": 72,
   "id": "1d1f42de",
   "metadata": {},
   "outputs": [],
   "source": [
    "def create_rankings_dict(rankings_interactions_df):\n",
    "    rankings_df = rankings_interactions_df[['number','call_datetime','Pushcall_ids_rankings']].copy().rename(columns = {'Pushcall_ids_rankings':'items', 'call_datetime':'timestamp','number':'user'})\n",
    "    rankings_df['user'] =  rankings_df['user'].astype(str).str[0:10]\n",
    "    rankings_df['id'] = (file_month + rankings_df.index.astype('str')).astype('str')\n",
    "    rankings_df['event']= 'ranking'\n",
    "    rankings_df['session']= rankings_df['user']\n",
    "    rankings_df['tenant']= 'default'\n",
    "    rankings_df['fields'] = np.empty((len(rankings_df), 0)).tolist()\n",
    "    rankings_df['timestamp'] = ((pd.to_datetime(rankings_df['timestamp']) -  pd.Timestamp(\"1970-01-01\"))/ pd.Timedelta('1s'))* 1000\n",
    "    rankings_df['timestamp'] =  rankings_df['timestamp'] - 10 * 1000\n",
    "    rankings_df['timestamp'] = pd.to_numeric(rankings_df['timestamp'].astype('str').str[0:13]).astype(object)\n",
    "    rankings_df['items']  =(\"[{'id':'\" + rankings_df['items'].str.replace(',',\"\"\"','relevancy':0},{'id':'\"\"\") + \"','relevancy':0}]\" ).str.replace(\"'\",'\"')\n",
    "    rankings_df['items']  = rankings_df['items'].apply(json.loads)\n",
    "    rankings_dict =  rankings_df.to_dict('records')\n",
    "    return(rankings_dict)"
   ]
  },
  {
   "cell_type": "markdown",
   "id": "5b0f5bc7",
   "metadata": {},
   "source": [
    "### Reading data : "
   ]
  },
  {
   "cell_type": "code",
   "execution_count": 68,
   "id": "e9afc934",
   "metadata": {},
   "outputs": [],
   "source": [
    "## reading the content metadata file \n",
    "content_md = pd.read_csv(content_folder + content_md_filename )"
   ]
  },
  {
   "cell_type": "markdown",
   "id": "12fdcb15",
   "metadata": {},
   "source": [
    "### Creating the event files: \n",
    "\n",
    "Pulling the interactions from the folder and creating the events into the json gzip files.  "
   ]
  },
  {
   "cell_type": "code",
   "execution_count": 73,
   "id": "7f2ba5f9",
   "metadata": {},
   "outputs": [],
   "source": [
    "files_df = pd.DataFrame(file_list, columns = ['file_name'])\n",
    "files_df['month'] = files_df['file_name'].str[0:5]"
   ]
  },
  {
   "cell_type": "code",
   "execution_count": 77,
   "id": "e6faf524",
   "metadata": {},
   "outputs": [
    {
     "name": "stdout",
     "output_type": "stream",
     "text": [
      "22-04-30_April_22.csv\n"
     ]
    },
    {
     "name": "stderr",
     "output_type": "stream",
     "text": [
      "C:\\Users\\gauta\\AppData\\Local\\Temp\\ipykernel_21588\\1755786638.py:6: DtypeWarning: Columns (6) have mixed types. Specify dtype option on import or set low_memory=False.\n",
      "  df = pd.read_csv(folder_loc+file_name)\n"
     ]
    },
    {
     "name": "stdout",
     "output_type": "stream",
     "text": [
      "written 22-04\n",
      "22-03-31_March_20-31.csv\n"
     ]
    },
    {
     "name": "stderr",
     "output_type": "stream",
     "text": [
      "C:\\Users\\gauta\\AppData\\Local\\Temp\\ipykernel_21588\\1755786638.py:6: DtypeWarning: Columns (6) have mixed types. Specify dtype option on import or set low_memory=False.\n",
      "  df = pd.read_csv(folder_loc+file_name)\n"
     ]
    },
    {
     "name": "stdout",
     "output_type": "stream",
     "text": [
      "22-03-20_March_10-20.csv\n",
      "22-03-10_March_1-10.csv\n",
      "written 22-03\n",
      "22-02-30_Feb_22_3.csv\n",
      "22-02-20_Feb_22_2.csv\n",
      "22-02-10_Feb_22_1.csv\n",
      "written 22-02\n",
      "22-01-30_Jan_20-30.csv\n",
      "22-01-20_Jan_11-20.csv\n"
     ]
    },
    {
     "name": "stderr",
     "output_type": "stream",
     "text": [
      "C:\\Users\\gauta\\AppData\\Local\\Temp\\ipykernel_21588\\1755786638.py:6: DtypeWarning: Columns (6) have mixed types. Specify dtype option on import or set low_memory=False.\n",
      "  df = pd.read_csv(folder_loc+file_name)\n"
     ]
    },
    {
     "name": "stdout",
     "output_type": "stream",
     "text": [
      "22-01-11_Jan_1-10.csv\n"
     ]
    },
    {
     "name": "stderr",
     "output_type": "stream",
     "text": [
      "C:\\Users\\gauta\\AppData\\Local\\Temp\\ipykernel_21588\\1755786638.py:6: DtypeWarning: Columns (6) have mixed types. Specify dtype option on import or set low_memory=False.\n",
      "  df = pd.read_csv(folder_loc+file_name)\n"
     ]
    },
    {
     "name": "stdout",
     "output_type": "stream",
     "text": [
      "written 22-01\n",
      "21-12-31_Dec_21_21-31.csv\n",
      "21-12-31_Dec_21_11-20.csv\n",
      "21-12-10_Dec_21_1.csv\n"
     ]
    },
    {
     "name": "stderr",
     "output_type": "stream",
     "text": [
      "C:\\Users\\gauta\\AppData\\Local\\Temp\\ipykernel_21588\\1755786638.py:6: DtypeWarning: Columns (6) have mixed types. Specify dtype option on import or set low_memory=False.\n",
      "  df = pd.read_csv(folder_loc+file_name)\n"
     ]
    },
    {
     "name": "stdout",
     "output_type": "stream",
     "text": [
      "written 21-12\n",
      "21-11-30_Nov_21_21-30.csv\n",
      "21-11-20_Nov_21_11-20.csv\n",
      "21-11-10_Nov_21_01-10.csv\n",
      "written 21-11\n",
      "21-10-30_Oct_21_3.csv\n",
      "21-10-20_Oct_21_2.csv\n",
      "21-10-10_Oct_21_1.csv\n",
      "written 21-10\n",
      "21-09-30_Sept_21_3.csv\n",
      "21-09-20_Sept_21_2.csv\n",
      "21-09-10_Sept_21_1.csv\n",
      "written 21-09\n",
      "21-08-30_August_21_3.csv\n"
     ]
    },
    {
     "name": "stderr",
     "output_type": "stream",
     "text": [
      "C:\\Users\\gauta\\AppData\\Local\\Temp\\ipykernel_21588\\1755786638.py:6: DtypeWarning: Columns (6,15) have mixed types. Specify dtype option on import or set low_memory=False.\n",
      "  df = pd.read_csv(folder_loc+file_name)\n"
     ]
    },
    {
     "name": "stdout",
     "output_type": "stream",
     "text": [
      "21-08-20_August_21_2.csv\n",
      "21-08-10_August_21_1.csv\n",
      "written 21-08\n"
     ]
    }
   ],
   "source": [
    "for file_month in  files_df.month.unique():\n",
    "    month_file_names =  files_df.loc[files_df.month == file_month,'file_name' ].values\n",
    "    for file_name in month_file_names:\n",
    "        all_files_df= pd.DataFrame( columns = ['call_datetime', 'pushcall_id', 'number', 'duration', 'ratings', 'pushcall_length'])\n",
    "        print(file_name)\n",
    "        df = pd.read_csv(folder_loc+file_name)\n",
    "        df = df.loc[~df.pushcall_length.isna(),:]\n",
    "        df = df[['call_datetime', 'pushcall_id', 'number', 'duration', 'ratings', 'pushcall_length']]\n",
    "        \n",
    "        all_files_df =  pd.concat((all_files_df,df),axis = 0,ignore_index= True)\n",
    "    df1 =  intial_cleaning_df(all_files_df)\n",
    "    rankings_interactions_df = create_interactions_df(df1)\n",
    "    interactions_dict = create_interactions_dict(rankings_interactions_df)\n",
    "    rankings_dict = create_rankings_dict(rankings_interactions_df)\n",
    "    writeall_jsonl_gz(save_ranking_interactions + file_month+'_' + gzip_filename_ranking, rankings_dict )\n",
    "    writeall_jsonl_gz(save_ranking_interactions + file_month+'_' + gzip_filename_interactions, interactions_dict )\n",
    "    print( 'written ' +  file_month)"
   ]
  }
 ],
 "metadata": {
  "kernelspec": {
   "display_name": "Python 3 (ipykernel)",
   "language": "python",
   "name": "python3"
  },
  "language_info": {
   "codemirror_mode": {
    "name": "ipython",
    "version": 3
   },
   "file_extension": ".py",
   "mimetype": "text/x-python",
   "name": "python",
   "nbconvert_exporter": "python",
   "pygments_lexer": "ipython3",
   "version": "3.9.12"
  },
  "toc": {
   "base_numbering": 1,
   "nav_menu": {},
   "number_sections": true,
   "sideBar": true,
   "skip_h1_title": false,
   "title_cell": "Table of Contents",
   "title_sidebar": "Contents",
   "toc_cell": false,
   "toc_position": {},
   "toc_section_display": true,
   "toc_window_display": false
  },
  "varInspector": {
   "cols": {
    "lenName": 16,
    "lenType": 16,
    "lenVar": 40
   },
   "kernels_config": {
    "python": {
     "delete_cmd_postfix": "",
     "delete_cmd_prefix": "del ",
     "library": "var_list.py",
     "varRefreshCmd": "print(var_dic_list())"
    },
    "r": {
     "delete_cmd_postfix": ") ",
     "delete_cmd_prefix": "rm(",
     "library": "var_list.r",
     "varRefreshCmd": "cat(var_dic_list()) "
    }
   },
   "types_to_exclude": [
    "module",
    "function",
    "builtin_function_or_method",
    "instance",
    "_Feature"
   ],
   "window_display": false
  }
 },
 "nbformat": 4,
 "nbformat_minor": 5
}
